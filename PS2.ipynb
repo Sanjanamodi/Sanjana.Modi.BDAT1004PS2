{
 "cells": [
  {
   "cell_type": "markdown",
   "id": "72b4b82d",
   "metadata": {},
   "source": [
    "## Question 1\n",
    "\n",
    "#### Consider the following Python module:\n",
    "```\n",
    "a = 0\n",
    "\n",
    "def b():\n",
    "    global a\n",
    "    a = c(a)\n",
    "    \n",
    "def c(a):\n",
    "return a + 2\n",
    "```\n",
    "\n",
    "After importing the module into the interpreter, you execute:\n",
    "```\n",
    ">>> b()\n",
    ">>> b()\n",
    ">>> b()\n",
    ">>> a\n",
    "?\n",
    "```\n",
    "What value is displayed when the last expression (a) is evaluated? Explain your answer by indicating what happens in every executed statement."
   ]
  },
  {
   "cell_type": "code",
   "execution_count": 8,
   "id": "4a1b5d88",
   "metadata": {},
   "outputs": [],
   "source": [
    "a = 0\n",
    "def b():\n",
    "    global a\n",
    "    a = c(a)\n",
    "    \n",
    "def c(a):\n",
    "    return a + 2"
   ]
  },
  {
   "cell_type": "code",
   "execution_count": 9,
   "id": "7d095ebc",
   "metadata": {},
   "outputs": [
    {
     "data": {
      "text/plain": [
       "6"
      ]
     },
     "execution_count": 9,
     "metadata": {},
     "output_type": "execute_result"
    }
   ],
   "source": [
    "b()\n",
    "b()\n",
    "b()\n",
    "a"
   ]
  },
  {
   "cell_type": "markdown",
   "id": "799a7897",
   "metadata": {},
   "source": [
    "## Explaination:-\n",
    "```\n",
    " --> Initially, a is assigned a value of 0.\n",
    " --> When the function b() called for the first time it will call c(a) function which assigns value 2 to a.\n",
    " --> function b() called for the second time it will call c(a) function and assigns another value 2 to a.\n",
    "     a = (Current Value of a=2) + new value (2) \n",
    "     a = 4\n",
    " --> function b() called for the third time it will call c(a) function which assigns another value 2 to a.\n",
    "     a = (Current Value of a=4) + new value (2) \n",
    "     a = 6\n",
    " --> Finally, when the last expression a is evaluated, it returns the current value of \n",
    "     the global variable a, which is 6.\n",
    "```"
   ]
  },
  {
   "cell_type": "markdown",
   "id": "cfbc9a9a",
   "metadata": {},
   "source": [
    "## Question 2\n",
    "#### Function fileLength(), given to you, takes the name of a file as input and returns the length of the file:\n",
    "\n",
    "```\n",
    ">>> fileLength('midterm.py')\n",
    "284 \n",
    ">>> fileLength('idterm.py')\n",
    "Traceback (most recent call last): \n",
    "    File \"<pyshell#34>\", line 1, in <module> \n",
    "        fileLength('idterm.py')\n",
    "    File \"/Users/me/midterm.py\", line 3, in fileLength \n",
    "        infile = open(filename)\n",
    "   FileNotFoundError: [Errno 2] No such file or directory: \n",
    "    'idterm.py'\n",
    "```\n",
    "    \n",
    "As shown above, if the file cannot be found by the interpreter or if it cannot be read as a text file, an exception will be raised. Modify function fileLength() so that a friendly message is printed instead:\n",
    "    \n",
    "    >>> fileLength('midterm.py') \n",
    "    358 \n",
    "    >>> fileLength('idterm.py')\n",
    "    File idterm.py not found."
   ]
  },
  {
   "cell_type": "code",
   "execution_count": 4,
   "id": "90332599",
   "metadata": {},
   "outputs": [],
   "source": [
    "import os\n",
    "\n",
    "def fileLength(filename):\n",
    "    if os.path.exists(filename):\n",
    "        try:\n",
    "            file = open(filename)\n",
    "            contents = file.read()\n",
    "            file.close()\n",
    "            file_length = len(contents)\n",
    "            print(file_length)\n",
    "        except:\n",
    "            print(\"An error occurred while reading the file.\")\n",
    "    else:\n",
    "        print(\"File\", filename, \"not found.\")"
   ]
  },
  {
   "cell_type": "code",
   "execution_count": 5,
   "id": "0213edc6",
   "metadata": {},
   "outputs": [
    {
     "name": "stdout",
     "output_type": "stream",
     "text": [
      "396\n"
     ]
    }
   ],
   "source": [
    "fileLength('midterm.py')"
   ]
  },
  {
   "cell_type": "code",
   "execution_count": 6,
   "id": "cbe18886",
   "metadata": {},
   "outputs": [
    {
     "name": "stdout",
     "output_type": "stream",
     "text": [
      "File idterm.py not found.\n"
     ]
    }
   ],
   "source": [
    "fileLength('idterm.py')"
   ]
  },
  {
   "cell_type": "markdown",
   "id": "92d1e64a",
   "metadata": {},
   "source": [
    "## Question 3 \n",
    "#### Write a class named Marsupial that can be used as shown below:\n",
    "```\n",
    ">>> m = Marsupial()\n",
    ">>> m.put_in_pouch('doll')\n",
    ">>> m.put_in_pouch('firetruck')\n",
    ">>> m.put_in_pouch('kitten') \n",
    ">>> m.pouch_contents() ['doll', 'firetruck', 'kitten']\n",
    "```\n",
    "\n",
    "Now write a class named Kangaroo as a subclass of Marsupial that inherits all the attributes of Marsupial and also:\n",
    "\n",
    "a. extends the Marsupial __init__ constructor to take, as input, the coordinates x and y of the Kangaroo object,\n",
    "b. supports method jump that takes number values dx and dy as input and moves the kangaroo by dx units along the x-axis and by dy units along the y-axis, and\n",
    "c. overloads the __str__ operator so it behaves as shown below.\n",
    "```\n",
    ">>> k = Kangaroo(0,0) \n",
    ">>> print(k) I am a Kangaroo located at coordinates (0,0)\n",
    ">>> k.put_in_pouch('doll') \n",
    ">>> k.put_in_pouch('firetruck')\n",
    ">>> k.put_in_pouch('kitten') \n",
    ">>> k.pouch_contents() ['doll', 'firetruck', 'kitten']\n",
    ">>> k.jump(1,0)\n",
    ">>> k.jump(1,0)\n",
    ">>> k.jump(1,0) \n",
    ">>> print(k) \n",
    "I am a Kangaroo located at coordinates (3,0)\n",
    "```"
   ]
  },
  {
   "cell_type": "code",
   "execution_count": 9,
   "id": "c0c75650",
   "metadata": {},
   "outputs": [],
   "source": [
    "class Marsupial:\n",
    "    def __init__(self):\n",
    "        self.pouch = []\n",
    "\n",
    "    def put_in_pouch(self, item):\n",
    "        self.pouch.append(item)\n",
    "\n",
    "    def pouch_contents(self):\n",
    "        return self.pouch\n",
    "\n",
    "\n",
    "class Kangaroo(Marsupial):\n",
    "    def __init__(self, x, y):\n",
    "        super().__init__()\n",
    "        self.x = x\n",
    "        self.y = y\n",
    "\n",
    "    def jump(self, dx, dy):\n",
    "        self.x += dx\n",
    "        self.y += dy\n",
    "\n",
    "    def __str__(self):\n",
    "        return \"I am a Kangaroo located at coordinates ({}, {})\".format(self.x, self.y)\n"
   ]
  },
  {
   "cell_type": "code",
   "execution_count": 12,
   "id": "2d4b4c3d",
   "metadata": {},
   "outputs": [
    {
     "name": "stdout",
     "output_type": "stream",
     "text": [
      "I am a Kangaroo located at coordinates (0, 0)\n",
      "['doll', 'firetruck', 'kitten']\n",
      "I am a Kangaroo located at coordinates (3, 0)\n"
     ]
    }
   ],
   "source": [
    "k = Kangaroo(0, 0)\n",
    "print(k) \n",
    "\n",
    "k.put_in_pouch('doll')\n",
    "k.put_in_pouch('firetruck')\n",
    "k.put_in_pouch('kitten')\n",
    "print(k.pouch_contents())  \n",
    "\n",
    "k.jump(1, 0)\n",
    "k.jump(1, 0)\n",
    "k.jump(1, 0)\n",
    "print(k)  "
   ]
  },
  {
   "cell_type": "markdown",
   "id": "7dc61abc",
   "metadata": {},
   "source": [
    "## Question 4\n",
    "#### Write function collatz() that takes a positive integer x as input and prints the Collatz sequence starting at x. A Collatz sequence is obtained by repeatedly applying this rule to the previous number x in the sequence:\n",
    "```\n",
    "x = { 𝑥/2  𝑖𝑓 𝑥 𝑖𝑠 𝑒𝑣𝑒𝑛\n",
    "    { 3𝑥+1 𝑖𝑓 𝑥 𝑖𝑠 𝑜𝑑𝑑\n",
    "```\n",
    "      \n",
    "Your function should stop when the sequence gets to number 1. Your implementation must be recursive, without any loops.\n",
    "```\n",
    ">>> collatz(1)\n",
    "1\n",
    ">>> collatz(10)\n",
    "10\n",
    "5\n",
    "16\n",
    "8\n",
    "4\n",
    "2\n",
    "1\n",
    "```"
   ]
  },
  {
   "cell_type": "code",
   "execution_count": 14,
   "id": "8d982acb",
   "metadata": {},
   "outputs": [],
   "source": [
    "def collatz(x):\n",
    "    print(x)\n",
    "    if x == 1:\n",
    "        return\n",
    "    elif x % 2 == 0:\n",
    "        collatz(x // 2)\n",
    "    else:\n",
    "        collatz(3 * x + 1)\n"
   ]
  },
  {
   "cell_type": "code",
   "execution_count": 15,
   "id": "74258806",
   "metadata": {},
   "outputs": [
    {
     "name": "stdout",
     "output_type": "stream",
     "text": [
      "1\n"
     ]
    }
   ],
   "source": [
    "collatz(1)"
   ]
  },
  {
   "cell_type": "code",
   "execution_count": 16,
   "id": "0dfb7f49",
   "metadata": {},
   "outputs": [
    {
     "name": "stdout",
     "output_type": "stream",
     "text": [
      "10\n",
      "5\n",
      "16\n",
      "8\n",
      "4\n",
      "2\n",
      "1\n"
     ]
    }
   ],
   "source": [
    "collatz(10)"
   ]
  },
  {
   "cell_type": "markdown",
   "id": "28f9d08f",
   "metadata": {},
   "source": [
    "## Question 5\n",
    "#### Write a recursive method binary() that takes a non-negative integer n and prints the binary representation of integer n.\n",
    "```\n",
    ">>> binary(0) \n",
    "0 \n",
    ">>> binary(1)\n",
    "1\n",
    ">>> binary(3) \n",
    "11 \n",
    ">>> binary(9) \n",
    "1001\n",
    "```"
   ]
  },
  {
   "cell_type": "code",
   "execution_count": 3,
   "id": "5353c5fd",
   "metadata": {},
   "outputs": [],
   "source": [
    "def binary(n):\n",
    "    if n > 1:\n",
    "        binary(n // 2)\n",
    "    print(n % 2, end='')"
   ]
  },
  {
   "cell_type": "code",
   "execution_count": 4,
   "id": "84bfb659",
   "metadata": {},
   "outputs": [
    {
     "name": "stdout",
     "output_type": "stream",
     "text": [
      "0"
     ]
    }
   ],
   "source": [
    "binary(0)"
   ]
  },
  {
   "cell_type": "code",
   "execution_count": 5,
   "id": "ddf7afd8",
   "metadata": {},
   "outputs": [
    {
     "name": "stdout",
     "output_type": "stream",
     "text": [
      "1"
     ]
    }
   ],
   "source": [
    "binary(1)"
   ]
  },
  {
   "cell_type": "code",
   "execution_count": 6,
   "id": "d1377e35",
   "metadata": {},
   "outputs": [
    {
     "name": "stdout",
     "output_type": "stream",
     "text": [
      "11"
     ]
    }
   ],
   "source": [
    "binary(3)"
   ]
  },
  {
   "cell_type": "code",
   "execution_count": 7,
   "id": "5eef5a41",
   "metadata": {},
   "outputs": [
    {
     "name": "stdout",
     "output_type": "stream",
     "text": [
      "1001"
     ]
    }
   ],
   "source": [
    "binary(9)"
   ]
  },
  {
   "cell_type": "markdown",
   "id": "626dc078",
   "metadata": {},
   "source": [
    "## Question 6\n",
    "#### Implement a class named HeadingParser that can be used to parse an HTML document, and retrieve and print all the headings in the document. You should implement your class as a subclass of HTMLParser, defined in Standard Library module html.parser. When fed a string containing HTML code, your class should print the headings, one per line and in the order in which they appear in the document. Each heading should be indented as follows: an h1 heading should have indentation 0, and h2 heading should have indentation 1, etc. Test your implementation using w3c.html.\n",
    "```\n",
    ">>> infile = open('w3c.html')\n",
    ">>> content = infile.read()\n",
    ">>> infile.close()\n",
    ">>> hp = HeadingParser()\n",
    ">>> hp.feed(content)\n",
    "\n",
    "W3C Mission\n",
    " Principles\n",
    "```"
   ]
  },
  {
   "cell_type": "code",
   "execution_count": 11,
   "id": "a20c02f4",
   "metadata": {},
   "outputs": [
    {
     "name": "stdout",
     "output_type": "stream",
     "text": [
      "W3C Mission\n",
      "\n",
      "\t\n",
      " Principles\n",
      " \n",
      " \n",
      "\n",
      "\n",
      "\n"
     ]
    }
   ],
   "source": [
    "from html.parser import HTMLParser\n",
    "\n",
    "class HeadingParser(HTMLParser):\n",
    "    def __init__(self):\n",
    "        super().__init__()\n",
    "        self.in_body = False\n",
    "        self.heading_level = 0\n",
    "\n",
    "    def handle_starttag(self, tag, attrs):\n",
    "        if tag == \"body\":\n",
    "            self.in_body = True\n",
    "\n",
    "        if self.in_body and tag.startswith(\"h\"):\n",
    "            self.heading_level = int(tag[1])\n",
    "        \n",
    "    def handle_endtag(self, tag):\n",
    "        if tag == \"body\":\n",
    "            self.in_body = False\n",
    "\n",
    "    def handle_data(self, data):\n",
    "        if self.in_body and self.heading_level > 0:\n",
    "            indentation = self.heading_level - 1\n",
    "            print(\" \" * indentation + data)\n",
    "\n",
    "infile = open('w3c.html')\n",
    "content = infile.read()\n",
    "infile.close()\n",
    "\n",
    "hp = HeadingParser()\n",
    "hp.feed(content)"
   ]
  },
  {
   "cell_type": "markdown",
   "id": "007dbaff",
   "metadata": {},
   "source": [
    "## Question 7 \n",
    "#### Implement recursive function webdir() that takes as input: a URL (as a string) and non-negative integers depth and indent. Your function should visit every web page reachable from the starting URL web page in depth clicks or less, and print each web page's URL. As shown below, indentation, specified by indent, should be used to indicate the depth of a URL.\n",
    "```\n",
    ">>> webdir('http://reed.cs.depaul.edu/lperkovic/csc242/test1.html', 2, 0)\n",
    "http://reed.cs.depaul.edu/lperkovic/csc242/test1.html \n",
    "http://reed.cs.depaul.edu/lperkovic/csc242/test2.html \n",
    "http://reed.cs.depaul.edu/lperkovic/csc242/test4.html \n",
    "http://reed.cs.depaul.edu/lperkovic/csc242/test3.html \n",
    "http://reed.cs.depaul.edu/lperkovic/csc242/test4.html\n",
    "```"
   ]
  },
  {
   "cell_type": "code",
   "execution_count": 7,
   "id": "75fe5b5c",
   "metadata": {},
   "outputs": [
    {
     "name": "stdout",
     "output_type": "stream",
     "text": [
      "https://reed.cs.depaul.edu/lperkovic/csc242/lecture9/two.html\n",
      "    https://reed.cs.depaul.edu/lperkovic/csc242/lecture9/four.html\n",
      "        https://reed.cs.depaul.edu/lperkovic/csc242/lecture9/five.html\n",
      "https://reed.cs.depaul.edu/lperkovic/csc242/lecture9/three.html\n",
      "    https://reed.cs.depaul.edu/lperkovic/csc242/lecture9/four.html\n",
      "        https://reed.cs.depaul.edu/lperkovic/csc242/lecture9/five.html\n"
     ]
    }
   ],
   "source": [
    "import urllib.request\n",
    "import urllib.parse\n",
    "from html.parser import HTMLParser\n",
    "\n",
    "class LinkParser(HTMLParser):\n",
    "    def __init__(self, base_url, depth, indent):\n",
    "        super().__init__()\n",
    "        self.base_url = base_url\n",
    "        self.depth = depth\n",
    "        self.indent = indent\n",
    "\n",
    "    def handle_starttag(self, tag, attrs):\n",
    "        if tag == 'a':\n",
    "            for attr in attrs:\n",
    "                if attr[0] == 'href':\n",
    "                    url = urllib.parse.urljoin(self.base_url, attr[1])\n",
    "                    if url.startswith('http'):\n",
    "                        print(' ' * self.indent + url)\n",
    "                    if self.depth > 0:\n",
    "                        self.recursive_webdir(url, self.depth - 1, self.indent + 4)\n",
    "\n",
    "    def recursive_webdir(self, url, depth, indent):\n",
    "        try:\n",
    "            response = urllib.request.urlopen(url)\n",
    "            if response.getcode() == 200:\n",
    "                content = response.read().decode('utf-8')\n",
    "                parser = LinkParser(url, depth, indent)\n",
    "                parser.feed(content)\n",
    "        except:\n",
    "            pass\n",
    "\n",
    "def webdir(url, depth, indent):\n",
    "    parser = LinkParser(url, depth, indent)\n",
    "    parser.recursive_webdir(url, depth, indent)\n",
    "\n",
    "webdir('https://reed.cs.depaul.edu/lperkovic/csc242/lecture9/one.html', 2, 0)"
   ]
  },
  {
   "cell_type": "markdown",
   "id": "a556e474",
   "metadata": {},
   "source": [
    "## Question 8\n",
    "#### Write SQL queries on the below database table that return:\n",
    "```\n",
    "a) All the temperature data.\n",
    "b) All the cities, but without repetition.\n",
    "c) All the records for India.\n",
    "d) All the Fall records.\n",
    "e) The city, country, and season for which the average rainfall is between 200 and 400 millimeters.\n",
    "f) The city and country for which the average Fall temperature is above 20 degrees, in increasing temperature order.\n",
    "g) The total annual rainfall for Cairo.\n",
    "h) The total rainfall for each season.\n",
    "```\n"
   ]
  },
  {
   "cell_type": "code",
   "execution_count": 1,
   "id": "f179d7d5",
   "metadata": {},
   "outputs": [],
   "source": [
    "import sqlite3\n",
    "\n",
    "conn = sqlite3.connect('weather_data.db')\n",
    "cursor = conn.cursor()\n",
    "\n",
    "cursor.execute('''\n",
    "    CREATE TABLE WeatherData (\n",
    "        City TEXT,\n",
    "        Country TEXT,\n",
    "        Season TEXT,\n",
    "        Temperature REAL,\n",
    "        Rainfall REAL\n",
    "    )\n",
    "''')\n",
    "\n",
    "data = [\n",
    "    ('Mumbai', 'India', 'Winter', 24.8, 5.9),\n",
    "    ('Mumbai', 'India', 'Spring', 28.4, 16.2),\n",
    "    ('Mumbai', 'India', 'Summer', 27.9, 1549.4),\n",
    "    ('Mumbai', 'India', 'Fall', 27.6, 346.0),\n",
    "    ('London', 'United Kingdom', 'Winter', 4.2, 207.7),\n",
    "    ('London', 'United Kingdom', 'Spring', 8.3, 169.6),\n",
    "    ('London', 'United Kingdom', 'Summer', 15.7, 157.0),\n",
    "    ('London', 'United Kingdom', 'Fall', 10.4, 218.5),\n",
    "    ('Cairo', 'Egypt', 'Winter', 13.6, 16.5),\n",
    "    ('Cairo', 'Egypt', 'Spring', 20.7, 6.5),\n",
    "    ('Cairo', 'Egypt', 'Summer', 27.7, 0.1),\n",
    "    ('Cairo', 'Egypt', 'Fall', 22.2, 4.5)\n",
    "]\n",
    "\n",
    "cursor.executemany('INSERT INTO WeatherData VALUES (?, ?, ?, ?, ?)', data)\n",
    "\n",
    "conn.commit()\n",
    "conn.close()"
   ]
  },
  {
   "cell_type": "code",
   "execution_count": 31,
   "id": "6dcab66b",
   "metadata": {},
   "outputs": [
    {
     "name": "stdout",
     "output_type": "stream",
     "text": [
      "Temperature Data: [(24.8,), (28.4,), (27.9,), (27.6,), (4.2,), (8.3,), (15.7,), (10.4,), (13.6,), (20.7,), (27.7,), (22.2,)]\n"
     ]
    }
   ],
   "source": [
    "import sqlite3\n",
    "\n",
    "conn = sqlite3.connect('weather_data.db')\n",
    "cursor = conn.cursor()\n",
    "\n",
    "# a)\n",
    "cursor.execute(\"SELECT Temperature FROM WeatherData\")\n",
    "temperature_data = cursor.fetchall()\n",
    "print(\"Temperature Data:\", temperature_data)"
   ]
  },
  {
   "cell_type": "code",
   "execution_count": 32,
   "id": "608dbebc",
   "metadata": {},
   "outputs": [
    {
     "name": "stdout",
     "output_type": "stream",
     "text": [
      "Cities: [('Mumbai',), ('London',), ('Cairo',)]\n"
     ]
    }
   ],
   "source": [
    "# b) \n",
    "cursor.execute(\"SELECT DISTINCT City FROM WeatherData\")\n",
    "cities = cursor.fetchall()\n",
    "print(\"Cities:\", cities)"
   ]
  },
  {
   "cell_type": "code",
   "execution_count": 33,
   "id": "07efb7cc",
   "metadata": {},
   "outputs": [
    {
     "name": "stdout",
     "output_type": "stream",
     "text": [
      "Records for India: [('Mumbai', 'India', 'Winter', 24.8, 5.9), ('Mumbai', 'India', 'Spring', 28.4, 16.2), ('Mumbai', 'India', 'Summer', 27.9, 1549.4), ('Mumbai', 'India', 'Fall', 27.6, 346.0)]\n"
     ]
    }
   ],
   "source": [
    "# c)\n",
    "cursor.execute(\"SELECT * FROM WeatherData WHERE Country = 'India'\")\n",
    "india_records = cursor.fetchall()\n",
    "print(\"Records for India:\", india_records)"
   ]
  },
  {
   "cell_type": "code",
   "execution_count": 34,
   "id": "af14ff92",
   "metadata": {},
   "outputs": [
    {
     "name": "stdout",
     "output_type": "stream",
     "text": [
      "Fall Records: [('Mumbai', 'India', 'Fall', 27.6, 346.0), ('London', 'United Kingdom', 'Fall', 10.4, 218.5), ('Cairo', 'Egypt', 'Fall', 22.2, 4.5)]\n"
     ]
    }
   ],
   "source": [
    "# d) \n",
    "cursor.execute(\"SELECT * FROM WeatherData WHERE Season = 'Fall'\")\n",
    "fall_records = cursor.fetchall()\n",
    "print(\"Fall Records:\", fall_records)"
   ]
  },
  {
   "cell_type": "code",
   "execution_count": 26,
   "id": "b0dbc402",
   "metadata": {},
   "outputs": [
    {
     "name": "stdout",
     "output_type": "stream",
     "text": [
      "Average Rainfall Records: [('London', 'United Kingdom', 'Fall'), ('London', 'United Kingdom', 'Winter'), ('Mumbai', 'India', 'Fall')]\n"
     ]
    }
   ],
   "source": [
    "# e) \n",
    "cursor.execute(\"\"\"\n",
    "    SELECT City, Country, Season\n",
    "    FROM WeatherData\n",
    "    GROUP BY City, Country, Season\n",
    "    HAVING AVG(Rainfall) BETWEEN 200 AND 400\n",
    "\"\"\")\n",
    "rainfall_average_records = cursor.fetchall()\n",
    "print(\"Average Rainfall Records:\", rainfall_average_records)"
   ]
  },
  {
   "cell_type": "code",
   "execution_count": 35,
   "id": "620da770",
   "metadata": {},
   "outputs": [
    {
     "name": "stdout",
     "output_type": "stream",
     "text": [
      "Fall Temperature Records: [('Cairo', 'Egypt'), ('Mumbai', 'India')]\n"
     ]
    }
   ],
   "source": [
    "# f) The city and country for which the average Fall temperature is above 20 degrees, in increasing temperature order\n",
    "cursor.execute(\"\"\"\n",
    "    SELECT City, Country\n",
    "    FROM WeatherData\n",
    "    WHERE Season = 'Fall'\n",
    "    GROUP BY City, Country\n",
    "    HAVING AVG(Temperature) > 20\n",
    "    ORDER BY AVG(Temperature) ASC\n",
    "\"\"\")\n",
    "fall_temperature_records = cursor.fetchall()\n",
    "print(\"Fall Temperature Records:\", fall_temperature_records)"
   ]
  },
  {
   "cell_type": "code",
   "execution_count": 36,
   "id": "122f7fca",
   "metadata": {},
   "outputs": [
    {
     "name": "stdout",
     "output_type": "stream",
     "text": [
      "Total Annual Rainfall for Cairo: 27.6\n"
     ]
    }
   ],
   "source": [
    "# g) \n",
    "cursor.execute(\"SELECT SUM(Rainfall) FROM WeatherData WHERE City = 'Cairo'\")\n",
    "cairo_total_rainfall = cursor.fetchone()[0]\n",
    "print(\"Total Annual Rainfall for Cairo:\", cairo_total_rainfall)"
   ]
  },
  {
   "cell_type": "code",
   "execution_count": 37,
   "id": "625df51e",
   "metadata": {},
   "outputs": [
    {
     "name": "stdout",
     "output_type": "stream",
     "text": [
      "Total Rainfall for Each Season: [('Fall', 569.0), ('Spring', 192.29999999999998), ('Summer', 1706.5), ('Winter', 230.1)]\n"
     ]
    }
   ],
   "source": [
    "# h) \n",
    "cursor.execute(\"SELECT Season, SUM(Rainfall) FROM WeatherData GROUP BY Season\")\n",
    "season_total_rainfall = cursor.fetchall()\n",
    "print(\"Total Rainfall for Each Season:\", season_total_rainfall)\n",
    "\n",
    "conn.close()"
   ]
  },
  {
   "cell_type": "markdown",
   "id": "0213dc22",
   "metadata": {},
   "source": [
    "## Question 9\n",
    "####  Suppose list words is defined as follows:\n",
    "```\n",
    ">>> words = ['The', 'quick', 'brown', 'fox', 'jumps', 'over', 'the', 'lazy', 'dog']\n",
    "Write list comprehension expressions that use list words and generate the following lists:\n",
    "a) ['THE', 'QUICK', 'BROWN', 'FOX', 'JUMPS', 'OVER', 'THE', 'LAZY', 'DOG']\n",
    "b) ['the', 'quick', 'brown', 'fox', 'jumps', 'over', 'the', 'lazy', 'dog']\n",
    "c) [3, 5, 5, 3, 5, 4, 3, 4, 3] (the list of lengths of words in list words).\n",
    "d) [['THE', 'the', 3], ['QUICK', 'quick', 5], ['BROWN', 'brown', 5], ['FOX', 'fox', 3], ['JUMPS', 'jumps', 5], ['OVER', 'over', 4], ['THE', 'the', 3], ['LAZY', 'lazy', 4], ['DOG', 'dog', 3]] (the list containing a list for every word of list words, where each list contains the word in uppercase and lowercase and the length of the word.)\n",
    "e) ['The', 'quick', 'brown', 'fox', 'jumps', 'over', 'the', 'lazy', 'dog'] (the list of words in list words containing 4 or more characters.)\n",
    "```"
   ]
  },
  {
   "cell_type": "code",
   "execution_count": 20,
   "id": "da239f2c",
   "metadata": {},
   "outputs": [],
   "source": [
    "words = ['The', 'quick', 'brown', 'fox', 'jumps', 'over', 'the', 'lazy', 'dog']"
   ]
  },
  {
   "cell_type": "code",
   "execution_count": 21,
   "id": "06d2bd2d",
   "metadata": {},
   "outputs": [
    {
     "name": "stdout",
     "output_type": "stream",
     "text": [
      "['THE', 'QUICK', 'BROWN', 'FOX', 'JUMPS', 'OVER', 'THE', 'LAZY', 'DOG']\n"
     ]
    }
   ],
   "source": [
    "# a)\n",
    "list_a = [word.upper() for word in words]\n",
    "print(list_a) "
   ]
  },
  {
   "cell_type": "code",
   "execution_count": 18,
   "id": "7117f634",
   "metadata": {},
   "outputs": [
    {
     "name": "stdout",
     "output_type": "stream",
     "text": [
      "['the', 'quick', 'brown', 'fox', 'jumps', 'over', 'the', 'lazy', 'dog']\n"
     ]
    }
   ],
   "source": [
    "# b)\n",
    "list_b = [word.lower() for word in words]\n",
    "print(list_b)  "
   ]
  },
  {
   "cell_type": "code",
   "execution_count": 17,
   "id": "b7901f42",
   "metadata": {},
   "outputs": [
    {
     "name": "stdout",
     "output_type": "stream",
     "text": [
      "[3, 5, 5, 3, 5, 4, 3, 4, 3]\n"
     ]
    }
   ],
   "source": [
    "# c) \n",
    "list_c = [len(word) for word in words]\n",
    "print(list_c) "
   ]
  },
  {
   "cell_type": "code",
   "execution_count": 16,
   "id": "6b9cb3a9",
   "metadata": {},
   "outputs": [
    {
     "name": "stdout",
     "output_type": "stream",
     "text": [
      "[['THE', 'the', 3], ['QUICK', 'quick', 5], ['BROWN', 'brown', 5], ['FOX', 'fox', 3], ['JUMPS', 'jumps', 5], ['OVER', 'over', 4], ['THE', 'the', 3], ['LAZY', 'lazy', 4], ['DOG', 'dog', 3]]\n"
     ]
    }
   ],
   "source": [
    "# d) \n",
    "list_d = [[word.upper(), word.lower(), len(word)] for word in words]\n",
    "print(list_d)"
   ]
  },
  {
   "cell_type": "code",
   "execution_count": 15,
   "id": "d9e4a719",
   "metadata": {},
   "outputs": [
    {
     "name": "stdout",
     "output_type": "stream",
     "text": [
      "['quick', 'brown', 'jumps', 'over', 'lazy']\n"
     ]
    }
   ],
   "source": [
    "# e)\n",
    "list_e = [word for word in words if len(word) >= 4]\n",
    "print(list_e)  "
   ]
  }
 ],
 "metadata": {
  "kernelspec": {
   "display_name": "Python 3 (ipykernel)",
   "language": "python",
   "name": "python3"
  },
  "language_info": {
   "codemirror_mode": {
    "name": "ipython",
    "version": 3
   },
   "file_extension": ".py",
   "mimetype": "text/x-python",
   "name": "python",
   "nbconvert_exporter": "python",
   "pygments_lexer": "ipython3",
   "version": "3.10.9"
  }
 },
 "nbformat": 4,
 "nbformat_minor": 5
}
